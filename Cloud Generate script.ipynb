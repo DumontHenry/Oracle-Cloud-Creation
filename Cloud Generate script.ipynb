{
 "cells": [
  {
   "cell_type": "code",
   "execution_count": null,
   "metadata": {},
   "outputs": [],
   "source": [
    "#  PIP install time \n",
    "#  PIP install oci\n",
    "#  PIP install os"
   ]
  },
  {
   "cell_type": "code",
   "execution_count": null,
   "metadata": {},
   "outputs": [],
   "source": [
    "# Config.txt file\n",
    "[DEFAULT]\n",
    "user= <your-ociid>\n",
    "fingerprint=<your-fingerprint>\n",
    "key_file=<path-to-private-key-file>\n",
    "tenancy=<ocid1.tenancy>\n",
    "region=<region-1>"
   ]
  },
  {
   "cell_type": "code",
   "execution_count": null,
   "metadata": {},
   "outputs": [],
   "source": [
    "import time\n",
    "import oci\n",
    "import os \n",
    "\n",
    "# Set your parameters here\n",
    "COMPARTMENT_ID = os.environ.get('COMPARTEMENT_ID')\n",
    "IMAGE_ID = os.environ.get('IMAGE_ID')\n",
    "SUBNET_ID = os.environ.get('SUBNET_ID')\n",
    "SHAPE = os.environ.get('SHAPE')\n",
    "\n",
    "# List of availability domains\n",
    "ADs = [\"AD-1\", \"AD-2\", \"AD-3\"]\n",
    "\n",
    "# Create an instance of the OCI ComputeClient\n",
    "config = oci.config.from_file(file_location=os.environ.get('CONFIG')) #Get configuration file , config.txt\n",
    "compute_client = oci.core.ComputeClient(config)\n",
    "\n",
    "# Start an infinite loop\n",
    "while True:\n",
    "    # Loop over availability domains\n",
    "    for AD in ADs:\n",
    "        print(f\"Attempting to create instance in {AD}...\")\n",
    "\n",
    "        try:\n",
    "            # Attempt to create the instance\n",
    "            launch_instance_response = compute_client.launch_instance(\n",
    "                oci.core.models.LaunchInstanceDetails(\n",
    "                    compartment_id=COMPARTMENT_ID,\n",
    "                    availability_domain=AD,\n",
    "                    shape=SHAPE,\n",
    "                    image_id=IMAGE_ID,\n",
    "                    subnet_id=SUBNET_ID\n",
    "                )\n",
    "            )\n",
    "\n",
    "            # Check the status of the instance\n",
    "            if launch_instance_response.status == 200:\n",
    "                print(f\"Instance created successfully in {AD}.\")\n",
    "                exit(0)\n",
    "            else:\n",
    "                print(f\"Failed to create instance in {AD}. Trying next availability domain...\")\n",
    "        except oci.exceptions.ServiceError as e:\n",
    "            error_message = f\"Failed to create instance in {AD}.\"\n",
    "\n",
    "            # Retrieve the error details\n",
    "            if e.status:\n",
    "                error_message += f\" HTTP status code: {e.status}\"\n",
    "            if e.headers and 'opc-request-id' in e.headers:\n",
    "                error_message += f\" Request ID: {e.headers['opc-request-id']}\"\n",
    "            if e.code:\n",
    "                error_message += f\" Error code: {e.code}\"\n",
    "            if e.message:\n",
    "                error_message += f\" Error message: {e.message}\"\n",
    "            if e.request_id:\n",
    "                error_message += f\" Service request ID: {e.request_id}\"\n",
    "\n",
    "            print(error_message)\n",
    "\n",
    "    # If the script reaches this point, all attempts have failed\n",
    "    print(\"Failed to create instance in all availability domains. Waiting 1 minute before trying again...\")\n",
    "    # Wait for 1 minute before the next attempt\n",
    "    time.sleep(120)\n"
   ]
  }
 ],
 "metadata": {
  "kernelspec": {
   "display_name": "Python 3",
   "language": "python",
   "name": "python3"
  },
  "language_info": {
   "codemirror_mode": {
    "name": "ipython",
    "version": 3
   },
   "file_extension": ".py",
   "mimetype": "text/x-python",
   "name": "python",
   "nbconvert_exporter": "python",
   "pygments_lexer": "ipython3",
   "version": "3.11.3"
  },
  "orig_nbformat": 4
 },
 "nbformat": 4,
 "nbformat_minor": 2
}
